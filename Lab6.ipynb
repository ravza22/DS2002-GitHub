{
 "cells": [
  {
   "cell_type": "code",
   "execution_count": 1,
   "id": "de8eec7a",
   "metadata": {},
   "outputs": [],
   "source": [
    "import sys\n",
    "import re"
   ]
  },
  {
   "cell_type": "code",
   "execution_count": 4,
   "id": "b62d6f91",
   "metadata": {},
   "outputs": [
    {
     "name": "stderr",
     "output_type": "stream",
     "text": [
      "C:\\Users\\ravza\\AppData\\Local\\Temp\\ipykernel_1968\\1248827756.py:4: DeprecationWarning: 'U' mode is deprecated\n",
      "  f = open(filename, 'rU')\n"
     ]
    },
    {
     "ename": "FileNotFoundError",
     "evalue": "[Errno 2] No such file or directory: '-f'",
     "output_type": "error",
     "traceback": [
      "\u001b[1;31m---------------------------------------------------------------------------\u001b[0m",
      "\u001b[1;31mFileNotFoundError\u001b[0m                         Traceback (most recent call last)",
      "Input \u001b[1;32mIn [4]\u001b[0m, in \u001b[0;36m<cell line: 55>\u001b[1;34m()\u001b[0m\n\u001b[0;32m     53\u001b[0m             \u001b[38;5;28mprint\u001b[39m(f_text)\n\u001b[0;32m     55\u001b[0m \u001b[38;5;28;01mif\u001b[39;00m \u001b[38;5;18m__name__\u001b[39m \u001b[38;5;241m==\u001b[39m \u001b[38;5;124m'\u001b[39m\u001b[38;5;124m__main__\u001b[39m\u001b[38;5;124m'\u001b[39m:\n\u001b[1;32m---> 56\u001b[0m     \u001b[43mmain\u001b[49m\u001b[43m(\u001b[49m\u001b[43m)\u001b[49m\n",
      "Input \u001b[1;32mIn [4]\u001b[0m, in \u001b[0;36mmain\u001b[1;34m()\u001b[0m\n\u001b[0;32m     41\u001b[0m     \u001b[38;5;28;01mdel\u001b[39;00m args[\u001b[38;5;241m0\u001b[39m]\n\u001b[0;32m     43\u001b[0m \u001b[38;5;28;01mfor\u001b[39;00m filename \u001b[38;5;129;01min\u001b[39;00m args:\n\u001b[1;32m---> 44\u001b[0m     names \u001b[38;5;241m=\u001b[39m \u001b[43mextract_names\u001b[49m\u001b[43m(\u001b[49m\u001b[43mfilename\u001b[49m\u001b[43m)\u001b[49m\n\u001b[0;32m     46\u001b[0m     f_text \u001b[38;5;241m=\u001b[39m \u001b[38;5;124m'\u001b[39m\u001b[38;5;130;01m\\n\u001b[39;00m\u001b[38;5;124m'\u001b[39m\u001b[38;5;241m.\u001b[39mjoin(names)\n\u001b[0;32m     48\u001b[0m     \u001b[38;5;28;01mif\u001b[39;00m summary:\n",
      "Input \u001b[1;32mIn [4]\u001b[0m, in \u001b[0;36mextract_names\u001b[1;34m(filename)\u001b[0m\n\u001b[0;32m      1\u001b[0m \u001b[38;5;28;01mdef\u001b[39;00m \u001b[38;5;21mextract_names\u001b[39m(filename):\n\u001b[0;32m      2\u001b[0m     names \u001b[38;5;241m=\u001b[39m []\n\u001b[1;32m----> 4\u001b[0m     f \u001b[38;5;241m=\u001b[39m \u001b[38;5;28;43mopen\u001b[39;49m\u001b[43m(\u001b[49m\u001b[43mfilename\u001b[49m\u001b[43m,\u001b[49m\u001b[43m \u001b[49m\u001b[38;5;124;43m'\u001b[39;49m\u001b[38;5;124;43mrU\u001b[39;49m\u001b[38;5;124;43m'\u001b[39;49m\u001b[43m)\u001b[49m\n\u001b[0;32m      5\u001b[0m     f_text \u001b[38;5;241m=\u001b[39m f\u001b[38;5;241m.\u001b[39mread()\n\u001b[0;32m      7\u001b[0m     yr_match \u001b[38;5;241m=\u001b[39m re\u001b[38;5;241m.\u001b[39msearch(\u001b[38;5;124mr\u001b[39m\u001b[38;5;124m'\u001b[39m\u001b[38;5;124mPopularity\u001b[39m\u001b[38;5;124m\\\u001b[39m\u001b[38;5;124msin\u001b[39m\u001b[38;5;124m\\\u001b[39m\u001b[38;5;124ms(\u001b[39m\u001b[38;5;124m\\\u001b[39m\u001b[38;5;124md\u001b[39m\u001b[38;5;124m\\\u001b[39m\u001b[38;5;124md\u001b[39m\u001b[38;5;124m\\\u001b[39m\u001b[38;5;124md\u001b[39m\u001b[38;5;124m\\\u001b[39m\u001b[38;5;124md)\u001b[39m\u001b[38;5;124m'\u001b[39m, f_text)\n",
      "\u001b[1;31mFileNotFoundError\u001b[0m: [Errno 2] No such file or directory: '-f'"
     ]
    }
   ],
   "source": [
    "def extract_names(filename):\n",
    "    names = []\n",
    "    \n",
    "    f = open(filename, 'rU')\n",
    "    f_text = f.read()\n",
    "    \n",
    "    yr_match = re.search(r'Popularity\\sin\\s(\\d\\d\\d\\d)', f_text)\n",
    "    if not yr_match:\n",
    "        sys.stderr.write('Couldn\\'t find the year!\\n')\n",
    "        sys.exit(1)\n",
    "    year = yr_match.group(1)\n",
    "    names.append(year)\n",
    "    \n",
    "    tuples = re.findall(r'<td>(\\d+)</td><td>(\\w+)</td>\\<td>(\\w+)</td>', f_text)\n",
    "    \n",
    "    names_to_rank =  {}\n",
    "    for r_tuple in tuples:\n",
    "        (rank, boyname, girlname) = r_tuple  \n",
    "        if boyname not in names_to_rank:\n",
    "            names_to_rank[boyname] = rank\n",
    "        if girlname not in names_to_rank:\n",
    "            names_to_rank[girlname] = rank\n",
    "    \n",
    "    sorted_names = sorted(names_to_rank.keys())\n",
    "    \n",
    "    for name in sorted_names:\n",
    "        names.append(name + \" \" + names_to_rank[name])\n",
    "    \n",
    "    return names\n",
    "\n",
    "def main():\n",
    "    args = sys.argv[1:]\n",
    "    \n",
    "    if not args:\n",
    "        print('usage: [--summaryfile] file [file ...]')\n",
    "        sys.exit(1)\n",
    "    \n",
    "    summary = False\n",
    "    if args[0] == '--summaryfile':\n",
    "        summary = True\n",
    "        del args[0]\n",
    "        \n",
    "    for filename in args:\n",
    "        names = extract_names(filename)\n",
    "        \n",
    "        f_text = '\\n'.join(names)\n",
    "        \n",
    "        if summary:\n",
    "            outf = open(filename + '.summary', 'w')\n",
    "            outf.write(f_text + '\\n')\n",
    "            outf.close()\n",
    "        else:\n",
    "            print(f_text)\n",
    "\n",
    "if __name__ == '__main__':\n",
    "    main()"
   ]
  },
  {
   "cell_type": "code",
   "execution_count": null,
   "id": "80ab23e6",
   "metadata": {},
   "outputs": [],
   "source": []
  }
 ],
 "metadata": {
  "kernelspec": {
   "display_name": "Python 3 (ipykernel)",
   "language": "python",
   "name": "python3"
  },
  "language_info": {
   "codemirror_mode": {
    "name": "ipython",
    "version": 3
   },
   "file_extension": ".py",
   "mimetype": "text/x-python",
   "name": "python",
   "nbconvert_exporter": "python",
   "pygments_lexer": "ipython3",
   "version": "3.9.12"
  }
 },
 "nbformat": 4,
 "nbformat_minor": 5
}
