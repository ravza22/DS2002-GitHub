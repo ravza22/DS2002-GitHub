{
 "cells": [
  {
   "cell_type": "code",
   "execution_count": 8,
   "id": "1242c3c4",
   "metadata": {},
   "outputs": [],
   "source": [
    "# Imports\n",
    "import json\n",
    "import requests\n",
    "import requests.exceptions\n",
    "import pandas as pd"
   ]
  },
  {
   "cell_type": "code",
   "execution_count": 9,
   "id": "be3b9248",
   "metadata": {},
   "outputs": [
    {
     "name": "stdout",
     "output_type": "stream",
     "text": [
      "GOOG\n"
     ]
    },
    {
     "data": {
      "text/plain": [
       "'GOOG'"
      ]
     },
     "execution_count": 9,
     "metadata": {},
     "output_type": "execute_result"
    }
   ],
   "source": [
    "# Takes user input for a stock (using the Ticker Symbol)\n",
    "stock = input()\n",
    "stock"
   ]
  },
  {
   "cell_type": "code",
   "execution_count": 10,
   "id": "ee353a77",
   "metadata": {},
   "outputs": [],
   "source": [
    "# First call to API\n",
    "#Name Ticker, Full Name of the Stock\n",
    "header_var ={'User-Agent': 'Mozilla/5.0 (Macintosh; Intel Mac OS X 10_10_1) AppleWebKit/537.36 (KHTML, like Gecko) Chrome/39.0.2171.95 Safari/537.36'}\n",
    "url1 = 'https://query1.finance.yahoo.com/v7/finance/quote'\n",
    "querystring1 = {\"symbols\": stock}\n",
    "\n",
    "# Handle Errors (IE, the stock doesn’t exist and/or the API is not returning information)\n",
    "try:\n",
    "    response1 = requests.request(\"GET\", url1, headers=header_var, params=querystring1)\n",
    "    response1.raise_for_status()\n",
    "except requests.exceptions.HTTPError as errh:\n",
    "    print(\"An Http Error occurred. This stock does not exist: \" + repr(errh))\n",
    "except requests.exceptions.ConnectionError as errc:\n",
    "    print(\"Connection error. An Error Connecting to the API occurred:\" + repr(errc))\n",
    "except requests.exceptions.Timeout as errt:\n",
    "    print( \"Timeout error. A Timeout Error occurred: \" + repr(errt))\n",
    "except requests.exceptions.RequestException as err:\n",
    "    print(\"An Unknown Error occurred:\" + repr(errt))\n",
    "json1 = response1.json()\n",
    "ticker_name = json1['quoteResponse']['result'][0]['symbol']\n",
    "full_name = json1['quoteResponse']['result'][0]['longName']"
   ]
  },
  {
   "cell_type": "code",
   "execution_count": 11,
   "id": "2f94328d",
   "metadata": {},
   "outputs": [],
   "source": [
    "# Second call to API\n",
    "#Current Price, Target Mean Price, Cash on Hand, Profit Margins\n",
    "url2 = 'https://query1.finance.yahoo.com/v11/finance/quoteSummary/'\n",
    "querystring2 = {\"symbol\": stock, \"modules\": 'financialData'}\n",
    "\n",
    "# Handle Errors (IE, the stock doesn’t exist and/or the API is not returning information)\n",
    "try:\n",
    "    response2 = requests.request(\"GET\", url2, headers=header_var, params=querystring2)\n",
    "    response2.raise_for_status()\n",
    "except requests.exceptions.HTTPError as errh:\n",
    "    print(\"An Http Error occurred. This stock does not exist: \" + repr(errh))\n",
    "except requests.exceptions.ConnectionError as errc:\n",
    "    print(\"Connection error. An Error Connecting to the API occurred:\" + repr(errc))\n",
    "except requests.exceptions.Timeout as errt:\n",
    "    print(\"Timeout error. A Timeout Error occurred: \" + repr(errt))\n",
    "except requests.exceptions.RequestException as err:\n",
    "    print(\"An Unknown Error occurred:\" + repr(errt))\n",
    "json2 = response2.json()\n",
    "current_price = json2['quoteSummary']['result'][0]['financialData']['currentPrice']['raw']\n",
    "target_mean_price = json2['quoteSummary']['result'][0]['financialData']['targetMeanPrice']['raw']\n",
    "cash_on_hand = json2['quoteSummary']['result'][0]['financialData']['totalCash']['raw']\n",
    "profit_margins = json2['quoteSummary']['result'][0]['financialData']['profitMargins']['raw']"
   ]
  },
  {
   "cell_type": "code",
   "execution_count": 12,
   "id": "a2ddddd5",
   "metadata": {},
   "outputs": [],
   "source": [
    "# Creating a dataframe displaying the following:\n",
    "# Name Ticker, Full Name of the Stock, Current Price, Target Mean Price, Cash on Hand, Profit Margins \n",
    "attribute_list = ['Ticker', 'Full Name', 'Current Price', 'Target Mean Price', 'Cash on Hand', 'Profit Margins']\n",
    "value_list = [ticker_name, full_name,current_price, target_mean_price, cash_on_hand, profit_margins]\n",
    "data_dictionary = {'Attributes': attribute_list, \"Values\": value_list}\n",
    "json_dictionary = {\n",
    "    \"Ticker\": ticker_name, \n",
    "    \"Full Name\": full_name, \n",
    "    \"Current Price\": current_price, \n",
    "    \"Target Mean Price\": target_mean_price, \n",
    "    \"Cash on Hand\": cash_on_hand, \n",
    "    \"Profit Margins\": profit_margins}"
   ]
  },
  {
   "cell_type": "code",
   "execution_count": 13,
   "id": "4639a237",
   "metadata": {},
   "outputs": [
    {
     "data": {
      "text/html": [
       "<div>\n",
       "<style scoped>\n",
       "    .dataframe tbody tr th:only-of-type {\n",
       "        vertical-align: middle;\n",
       "    }\n",
       "\n",
       "    .dataframe tbody tr th {\n",
       "        vertical-align: top;\n",
       "    }\n",
       "\n",
       "    .dataframe thead th {\n",
       "        text-align: right;\n",
       "    }\n",
       "</style>\n",
       "<table border=\"1\" class=\"dataframe\">\n",
       "  <thead>\n",
       "    <tr style=\"text-align: right;\">\n",
       "      <th></th>\n",
       "      <th>Attributes</th>\n",
       "      <th>Values</th>\n",
       "    </tr>\n",
       "  </thead>\n",
       "  <tbody>\n",
       "    <tr>\n",
       "      <th>0</th>\n",
       "      <td>Ticker</td>\n",
       "      <td>GOOG</td>\n",
       "    </tr>\n",
       "    <tr>\n",
       "      <th>1</th>\n",
       "      <td>Full Name</td>\n",
       "      <td>Alphabet Inc.</td>\n",
       "    </tr>\n",
       "    <tr>\n",
       "      <th>2</th>\n",
       "      <td>Current Price</td>\n",
       "      <td>97.18</td>\n",
       "    </tr>\n",
       "    <tr>\n",
       "      <th>3</th>\n",
       "      <td>Target Mean Price</td>\n",
       "      <td>148.95</td>\n",
       "    </tr>\n",
       "    <tr>\n",
       "      <th>4</th>\n",
       "      <td>Cash on Hand</td>\n",
       "      <td>124997001216</td>\n",
       "    </tr>\n",
       "    <tr>\n",
       "      <th>5</th>\n",
       "      <td>Profit Margins</td>\n",
       "      <td>0.25892</td>\n",
       "    </tr>\n",
       "  </tbody>\n",
       "</table>\n",
       "</div>"
      ],
      "text/plain": [
       "          Attributes         Values\n",
       "0             Ticker           GOOG\n",
       "1          Full Name  Alphabet Inc.\n",
       "2      Current Price          97.18\n",
       "3  Target Mean Price         148.95\n",
       "4       Cash on Hand   124997001216\n",
       "5     Profit Margins        0.25892"
      ]
     },
     "execution_count": 13,
     "metadata": {},
     "output_type": "execute_result"
    }
   ],
   "source": [
    "# Display back to the user: Name Ticker, Full Name of the Stock, Current Price, Target Mean Price, Cash on Hand, Profit Margins\n",
    "dataframe = pd.DataFrame.from_dict(data_dictionary)\n",
    "dataframe"
   ]
  },
  {
   "cell_type": "code",
   "execution_count": 14,
   "id": "e8f33a4e",
   "metadata": {},
   "outputs": [
    {
     "data": {
      "text/plain": [
       "'{\\n    \"Ticker\": \"GOOG\",\\n    \"Full Name\": \"Alphabet Inc.\",\\n    \"Current Price\": 97.18,\\n    \"Target Mean Price\": 148.95,\\n    \"Cash on Hand\": 124997001216,\\n    \"Profit Margins\": 0.25892\\n}'"
      ]
     },
     "execution_count": 14,
     "metadata": {},
     "output_type": "execute_result"
    }
   ],
   "source": [
    "# Store the results locally in JSON format\n",
    "with open('lab04.json', 'w') as outfile:\n",
    "    json.dump(json_dictionary, outfile)\n",
    "json.dumps(json_dictionary, indent=4)"
   ]
  },
  {
   "cell_type": "code",
   "execution_count": null,
   "id": "99ce6c61",
   "metadata": {},
   "outputs": [],
   "source": []
  }
 ],
 "metadata": {
  "kernelspec": {
   "display_name": "Python 3 (ipykernel)",
   "language": "python",
   "name": "python3"
  },
  "language_info": {
   "codemirror_mode": {
    "name": "ipython",
    "version": 3
   },
   "file_extension": ".py",
   "mimetype": "text/x-python",
   "name": "python",
   "nbconvert_exporter": "python",
   "pygments_lexer": "ipython3",
   "version": "3.9.12"
  }
 },
 "nbformat": 4,
 "nbformat_minor": 5
}
